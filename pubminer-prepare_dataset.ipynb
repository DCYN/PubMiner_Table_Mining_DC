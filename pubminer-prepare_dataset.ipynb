{
 "cells": [
  {
   "cell_type": "code",
   "execution_count": 1,
   "metadata": {},
   "outputs": [
    {
     "name": "stderr",
     "output_type": "stream",
     "text": [
      "/home/dc/anaconda3/envs/tensorflow/lib/python3.6/site-packages/h5py/__init__.py:36: FutureWarning: Conversion of the second argument of issubdtype from `float` to `np.floating` is deprecated. In future, it will be treated as `np.float64 == np.dtype(float).type`.\n",
      "  from ._conv import register_converters as _register_converters\n"
     ]
    }
   ],
   "source": [
    "import csv\n",
    "import os\n",
    "from bs4 import BeautifulSoup\n",
    "import pandas as pd\n",
    "from urllib.request import urlopen\n",
    "from os.path import basename\n",
    "import shutil\n",
    "import numpy as np\n",
    "import warnings\n",
    "from tabulate import tabulate\n",
    "from IPython.display import display, HTML\n",
    "from multiprocessing import Pool\n",
    "import tensorflow as tf\n",
    "\n",
    "warnings.filterwarnings(\"ignore\")"
   ]
  },
  {
   "cell_type": "markdown",
   "metadata": {},
   "source": [
    "# 1. Creating dataset"
   ]
  },
  {
   "cell_type": "code",
   "execution_count": 2,
   "metadata": {},
   "outputs": [],
   "source": [
    "clinicalTrail = pd.read_csv('clinical_oa_df.csv')"
   ]
  },
  {
   "cell_type": "code",
   "execution_count": 3,
   "metadata": {},
   "outputs": [
    {
     "data": {
      "text/html": [
       "<div>\n",
       "<style scoped>\n",
       "    .dataframe tbody tr th:only-of-type {\n",
       "        vertical-align: middle;\n",
       "    }\n",
       "\n",
       "    .dataframe tbody tr th {\n",
       "        vertical-align: top;\n",
       "    }\n",
       "\n",
       "    .dataframe thead th {\n",
       "        text-align: right;\n",
       "    }\n",
       "</style>\n",
       "<table border=\"1\" class=\"dataframe\">\n",
       "  <thead>\n",
       "    <tr style=\"text-align: right;\">\n",
       "      <th></th>\n",
       "      <th>Unnamed: 0</th>\n",
       "      <th>File</th>\n",
       "      <th>Article Citation</th>\n",
       "      <th>Accession ID</th>\n",
       "      <th>Last Updated (YYYY-MM-DD HH:MM:SS)</th>\n",
       "      <th>PMID</th>\n",
       "      <th>License</th>\n",
       "    </tr>\n",
       "  </thead>\n",
       "  <tbody>\n",
       "    <tr>\n",
       "      <th>0</th>\n",
       "      <td>48</td>\n",
       "      <td>oa_package/94/ba/PMC17815.tar.gz</td>\n",
       "      <td>Arthritis Res. 2000 Jun 8; 2(4):327-336</td>\n",
       "      <td>PMC17815</td>\n",
       "      <td>2014-04-29 19:51:33</td>\n",
       "      <td>11056673.0</td>\n",
       "      <td>NO-CC CODE</td>\n",
       "    </tr>\n",
       "    <tr>\n",
       "      <th>1</th>\n",
       "      <td>115</td>\n",
       "      <td>oa_package/44/ab/PMC29034.tar.gz</td>\n",
       "      <td>Crit Care. 2000 Jan 24; 4(1):40-44</td>\n",
       "      <td>PMC29034</td>\n",
       "      <td>2014-04-29 19:58:37</td>\n",
       "      <td>11056743.0</td>\n",
       "      <td>NO-CC CODE</td>\n",
       "    </tr>\n",
       "    <tr>\n",
       "      <th>2</th>\n",
       "      <td>123</td>\n",
       "      <td>oa_package/ad/d7/PMC29042.tar.gz</td>\n",
       "      <td>Crit Care. 2000 Apr 13; 4(3):188-192</td>\n",
       "      <td>PMC29042</td>\n",
       "      <td>2014-04-29 19:58:41</td>\n",
       "      <td>11056751.0</td>\n",
       "      <td>NO-CC CODE</td>\n",
       "    </tr>\n",
       "    <tr>\n",
       "      <th>3</th>\n",
       "      <td>126</td>\n",
       "      <td>oa_package/e7/5a/PMC29045.tar.gz</td>\n",
       "      <td>Crit Care. 2000 Jun 27; 4(4):249-254</td>\n",
       "      <td>PMC29045</td>\n",
       "      <td>2014-04-29 19:58:41</td>\n",
       "      <td>11056754.0</td>\n",
       "      <td>NO-CC CODE</td>\n",
       "    </tr>\n",
       "    <tr>\n",
       "      <th>4</th>\n",
       "      <td>128</td>\n",
       "      <td>oa_package/ed/00/PMC29047.tar.gz</td>\n",
       "      <td>Crit Care. 2000 Jul 31; 4(5):302-308</td>\n",
       "      <td>PMC29047</td>\n",
       "      <td>2014-04-29 19:58:41</td>\n",
       "      <td>11056756.0</td>\n",
       "      <td>NO-CC CODE</td>\n",
       "    </tr>\n",
       "  </tbody>\n",
       "</table>\n",
       "</div>"
      ],
      "text/plain": [
       "   Unnamed: 0                              File  \\\n",
       "0          48  oa_package/94/ba/PMC17815.tar.gz   \n",
       "1         115  oa_package/44/ab/PMC29034.tar.gz   \n",
       "2         123  oa_package/ad/d7/PMC29042.tar.gz   \n",
       "3         126  oa_package/e7/5a/PMC29045.tar.gz   \n",
       "4         128  oa_package/ed/00/PMC29047.tar.gz   \n",
       "\n",
       "                          Article Citation Accession ID  \\\n",
       "0  Arthritis Res. 2000 Jun 8; 2(4):327-336     PMC17815   \n",
       "1       Crit Care. 2000 Jan 24; 4(1):40-44     PMC29034   \n",
       "2     Crit Care. 2000 Apr 13; 4(3):188-192     PMC29042   \n",
       "3     Crit Care. 2000 Jun 27; 4(4):249-254     PMC29045   \n",
       "4     Crit Care. 2000 Jul 31; 4(5):302-308     PMC29047   \n",
       "\n",
       "  Last Updated (YYYY-MM-DD HH:MM:SS)        PMID     License  \n",
       "0                2014-04-29 19:51:33  11056673.0  NO-CC CODE  \n",
       "1                2014-04-29 19:58:37  11056743.0  NO-CC CODE  \n",
       "2                2014-04-29 19:58:41  11056751.0  NO-CC CODE  \n",
       "3                2014-04-29 19:58:41  11056754.0  NO-CC CODE  \n",
       "4                2014-04-29 19:58:41  11056756.0  NO-CC CODE  "
      ]
     },
     "execution_count": 3,
     "metadata": {},
     "output_type": "execute_result"
    }
   ],
   "source": [
    "clinicalTrail.head()"
   ]
  },
  {
   "cell_type": "code",
   "execution_count": 32,
   "metadata": {},
   "outputs": [],
   "source": [
    "src = 'PubMed'\n",
    "dest = 'ClinicalTrail/'\n",
    "src_files = os.listdir(src)"
   ]
  },
  {
   "cell_type": "code",
   "execution_count": 43,
   "metadata": {},
   "outputs": [],
   "source": [
    "clinicalTrail['Found'] = False\n",
    "for i in range(len(clinicalTrail['Accession ID'])):\n",
    "    full_file_name = os.path.join(src, clinicalTrail['Accession ID'][i]+'.nxml')\n",
    "    if (os.path.isfile(full_file_name)):\n",
    "        shutil.copy(full_file_name, dest)\n",
    "        clinicalTrail.loc[i,['Found']]=True"
   ]
  },
  {
   "cell_type": "code",
   "execution_count": 44,
   "metadata": {},
   "outputs": [
    {
     "data": {
      "text/html": [
       "<div>\n",
       "<style scoped>\n",
       "    .dataframe tbody tr th:only-of-type {\n",
       "        vertical-align: middle;\n",
       "    }\n",
       "\n",
       "    .dataframe tbody tr th {\n",
       "        vertical-align: top;\n",
       "    }\n",
       "\n",
       "    .dataframe thead th {\n",
       "        text-align: right;\n",
       "    }\n",
       "</style>\n",
       "<table border=\"1\" class=\"dataframe\">\n",
       "  <thead>\n",
       "    <tr style=\"text-align: right;\">\n",
       "      <th></th>\n",
       "      <th>Unnamed: 0</th>\n",
       "      <th>File</th>\n",
       "      <th>Article Citation</th>\n",
       "      <th>Accession ID</th>\n",
       "      <th>Last Updated (YYYY-MM-DD HH:MM:SS)</th>\n",
       "      <th>PMID</th>\n",
       "      <th>License</th>\n",
       "      <th>Found</th>\n",
       "    </tr>\n",
       "  </thead>\n",
       "  <tbody>\n",
       "    <tr>\n",
       "      <th>205</th>\n",
       "      <td>7178</td>\n",
       "      <td>oa_package/6e/2f/PMC509245.tar.gz</td>\n",
       "      <td>BMC Cardiovasc Disord. 2004 Jul 29; 4:12</td>\n",
       "      <td>PMC509245</td>\n",
       "      <td>2013-03-20 10:25:03</td>\n",
       "      <td>15283871.0</td>\n",
       "      <td>CC BY</td>\n",
       "      <td>False</td>\n",
       "    </tr>\n",
       "    <tr>\n",
       "      <th>206</th>\n",
       "      <td>7180</td>\n",
       "      <td>oa_package/3b/f6/PMC509247.tar.gz</td>\n",
       "      <td>BMC Geriatr. 2004 Jul 30; 4:7</td>\n",
       "      <td>PMC509247</td>\n",
       "      <td>2013-03-20 10:25:03</td>\n",
       "      <td>15285783.0</td>\n",
       "      <td>CC BY</td>\n",
       "      <td>False</td>\n",
       "    </tr>\n",
       "    <tr>\n",
       "      <th>208</th>\n",
       "      <td>7319</td>\n",
       "      <td>oa_package/10/5a/PMC514552.tar.gz</td>\n",
       "      <td>BMC Psychiatry. 2004 Aug 11; 4:22</td>\n",
       "      <td>PMC514552</td>\n",
       "      <td>2011-01-18 11:27:30</td>\n",
       "      <td>15306031.0</td>\n",
       "      <td>CC BY</td>\n",
       "      <td>False</td>\n",
       "    </tr>\n",
       "    <tr>\n",
       "      <th>209</th>\n",
       "      <td>7320</td>\n",
       "      <td>oa_package/88/22/PMC514553.tar.gz</td>\n",
       "      <td>BMC Psychiatry. 2004 Aug 15; 4:23</td>\n",
       "      <td>PMC514553</td>\n",
       "      <td>2013-03-20 10:25:32</td>\n",
       "      <td>15310395.0</td>\n",
       "      <td>CC BY</td>\n",
       "      <td>False</td>\n",
       "    </tr>\n",
       "    <tr>\n",
       "      <th>210</th>\n",
       "      <td>7328</td>\n",
       "      <td>oa_package/ea/97/PMC514561.tar.gz</td>\n",
       "      <td>BMC Complement Altern Med. 2004 Aug 4; 4:10</td>\n",
       "      <td>PMC514561</td>\n",
       "      <td>2012-10-04 05:31:48</td>\n",
       "      <td>15294021.0</td>\n",
       "      <td>CC BY</td>\n",
       "      <td>False</td>\n",
       "    </tr>\n",
       "  </tbody>\n",
       "</table>\n",
       "</div>"
      ],
      "text/plain": [
       "     Unnamed: 0                               File  \\\n",
       "205        7178  oa_package/6e/2f/PMC509245.tar.gz   \n",
       "206        7180  oa_package/3b/f6/PMC509247.tar.gz   \n",
       "208        7319  oa_package/10/5a/PMC514552.tar.gz   \n",
       "209        7320  oa_package/88/22/PMC514553.tar.gz   \n",
       "210        7328  oa_package/ea/97/PMC514561.tar.gz   \n",
       "\n",
       "                                Article Citation Accession ID  \\\n",
       "205     BMC Cardiovasc Disord. 2004 Jul 29; 4:12    PMC509245   \n",
       "206                BMC Geriatr. 2004 Jul 30; 4:7    PMC509247   \n",
       "208            BMC Psychiatry. 2004 Aug 11; 4:22    PMC514552   \n",
       "209            BMC Psychiatry. 2004 Aug 15; 4:23    PMC514553   \n",
       "210  BMC Complement Altern Med. 2004 Aug 4; 4:10    PMC514561   \n",
       "\n",
       "    Last Updated (YYYY-MM-DD HH:MM:SS)        PMID License  Found  \n",
       "205                2013-03-20 10:25:03  15283871.0   CC BY  False  \n",
       "206                2013-03-20 10:25:03  15285783.0   CC BY  False  \n",
       "208                2011-01-18 11:27:30  15306031.0   CC BY  False  \n",
       "209                2013-03-20 10:25:32  15310395.0   CC BY  False  \n",
       "210                2012-10-04 05:31:48  15294021.0   CC BY  False  "
      ]
     },
     "execution_count": 44,
     "metadata": {},
     "output_type": "execute_result"
    }
   ],
   "source": [
    "clinicalTrail[clinicalTrail.Found == False].head()"
   ]
  },
  {
   "cell_type": "code",
   "execution_count": 45,
   "metadata": {
    "collapsed": true
   },
   "outputs": [],
   "source": [
    "clinicalTrail.to_csv(\"clinical_oa_df_checked.csv\")"
   ]
  }
 ],
 "metadata": {
  "kernelspec": {
   "display_name": "TensorFlow",
   "language": "python",
   "name": "tensorflow"
  },
  "language_info": {
   "codemirror_mode": {
    "name": "ipython",
    "version": 3
   },
   "file_extension": ".py",
   "mimetype": "text/x-python",
   "name": "python",
   "nbconvert_exporter": "python",
   "pygments_lexer": "ipython3",
   "version": "3.6.4"
  }
 },
 "nbformat": 4,
 "nbformat_minor": 2
}
