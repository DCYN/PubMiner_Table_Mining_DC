{
 "cells": [
  {
   "cell_type": "code",
   "execution_count": 1,
   "metadata": {},
   "outputs": [
    {
     "name": "stderr",
     "output_type": "stream",
     "text": [
      "/home/dc/anaconda3/envs/tensorflow/lib/python3.6/site-packages/h5py/__init__.py:36: FutureWarning: Conversion of the second argument of issubdtype from `float` to `np.floating` is deprecated. In future, it will be treated as `np.float64 == np.dtype(float).type`.\n",
      "  from ._conv import register_converters as _register_converters\n"
     ]
    }
   ],
   "source": [
    "import csv\n",
    "import os\n",
    "from bs4 import BeautifulSoup\n",
    "import pandas as pd\n",
    "from urllib.request import urlopen\n",
    "from os.path import basename\n",
    "import shutil\n",
    "import numpy as np\n",
    "import warnings\n",
    "from tabulate import tabulate\n",
    "from IPython.display import display, HTML\n",
    "from multiprocessing import Pool\n",
    "import tensorflow as tf\n",
    "\n",
    "warnings.filterwarnings(\"ignore\")"
   ]
  },
  {
   "cell_type": "markdown",
   "metadata": {},
   "source": [
    "# 2. Scraping Table 1"
   ]
  },
  {
   "cell_type": "code",
   "execution_count": 2,
   "metadata": {},
   "outputs": [],
   "source": [
    "clinicalTrail = pd.read_csv('clinical_oa_df_checked.csv')"
   ]
  },
  {
   "cell_type": "code",
   "execution_count": 3,
   "metadata": {},
   "outputs": [],
   "source": [
    "def table1(fileName, src='SampleFiles'):\n",
    "    soup = BeautifulSoup(open(os.path.join(src, fileName)), 'lxml')\n",
    "    tables = soup.find_all('table')\n",
    "    dt = ['No Table1']\n",
    "    tableStatus = 'No Table1'\n",
    "    tabLen = len(tables)\n",
    "    if tabLen> 0:\n",
    "        i = 0\n",
    "        while i < tabLen:\n",
    "            table = tables[i]\n",
    "            tableStatus = 'Has Table1'\n",
    "            try:\n",
    "                dfTmp = pd.read_html(str(table), na_values = ' ', keep_default_na= False)[0]\n",
    "                nLevels = dfTmp.columns.nlevels\n",
    "                colList = dfTmp.columns.tolist()\n",
    "                if ((sum([('AGE' in colList[k][l].upper())])>0) | (\n",
    "                        sum([('RACE' in colList[k][l].upper())])>0) | (\n",
    "                        sum([(('MEN' in colList[k][l].upper()) | ('WOMEN' in colList[k][l].upper()) | \n",
    "                     ('SEX' in colList[k][l].upper()) | ('GENDER'in colList[k][l].upper()))]) > 0) for l \n",
    "                        in range(nLevels) for k in range(len(colList))):\n",
    "                    dt = table\n",
    "                    break\n",
    "                stub = dfTmp.iloc[:, 0].apply(lambda x: x.upper())\n",
    "                if ((sum([('AGE' in stub[i])])>0)|(sum([('RACE' in stub[i])])>0) |sum(\n",
    "                    ('MEN' in stub[i])| ('WOMEN' in stub[i]) | ('SEX' in stub[i]) | (\n",
    "                        'GENDER' in stub[i]))>0 \n",
    "                    for i in range(len(stub))):\n",
    "                    dt = table\n",
    "                    break\n",
    "\n",
    "            except ValueError:\n",
    "                dt = ['Unable to parse Value']\n",
    "                tableStatus = \"Unable to parse Value\"  \n",
    "\n",
    "            except TypeError:\n",
    "                dt = ['Unable to parse Type']\n",
    "                tableStatus = \"Unable to parse Type\"  \n",
    "            i += 1\n",
    "    if dt == []:\n",
    "        dt = ['Graph Table1']\n",
    "        tableStatus = \"Graphic Table1\"\n",
    "    clinicalTrail['ContainTable1'][clinicalTrail['Accession ID']== os.path.splitext(fileName)[0]] = tableStatus\n",
    "    tableList[fileName] = dt"
   ]
  },
  {
   "cell_type": "code",
   "execution_count": 4,
   "metadata": {},
   "outputs": [
    {
     "name": "stdout",
     "output_type": "stream",
     "text": [
      "Files processed:  100\n",
      "Files processed:  200\n",
      "Files processed:  300\n",
      "Files processed:  400\n",
      "Files processed:  500\n",
      "Files processed:  600\n",
      "Files processed:  700\n"
     ]
    }
   ],
   "source": [
    "src = 'SampleFiles'\n",
    "src_files = os.listdir(src)\n",
    "clinicalTrail['ContainTable1'] = \"No Table1\"\n",
    "tableList = {}\n",
    "\n",
    "counter = 0\n",
    "for file in src_files:\n",
    "    counter += 1\n",
    "    table1(file, src)\n",
    "    if (counter % 100 == 0):\n",
    "        print (\"Files processed: \", counter )"
   ]
  },
  {
   "cell_type": "code",
   "execution_count": 5,
   "metadata": {},
   "outputs": [
    {
     "data": {
      "text/plain": [
       "array(['No Table1', 'Has Table1'], dtype=object)"
      ]
     },
     "execution_count": 5,
     "metadata": {},
     "output_type": "execute_result"
    }
   ],
   "source": [
    "clinicalTrail['ContainTable1'].unique()"
   ]
  },
  {
   "cell_type": "code",
   "execution_count": 6,
   "metadata": {},
   "outputs": [
    {
     "data": {
      "text/plain": [
       "Unnamed: 0                            613\n",
       "Unnamed: 0.1                          613\n",
       "File                                  613\n",
       "Article Citation                      613\n",
       "Accession ID                          613\n",
       "Last Updated (YYYY-MM-DD HH:MM:SS)    613\n",
       "PMID                                  613\n",
       "License                               613\n",
       "Found                                 613\n",
       "ContainTable1                         613\n",
       "dtype: int64"
      ]
     },
     "execution_count": 6,
     "metadata": {},
     "output_type": "execute_result"
    }
   ],
   "source": [
    "clinicalTrail[clinicalTrail.ContainTable1 == \"Has Table1\"].count()"
   ]
  },
  {
   "cell_type": "code",
   "execution_count": 7,
   "metadata": {},
   "outputs": [],
   "source": [
    "(pd.DataFrame.from_dict(data=tableList, orient='index')\n",
    "   .to_csv('table1List.csv', header=False))"
   ]
  },
  {
   "cell_type": "code",
   "execution_count": 8,
   "metadata": {},
   "outputs": [],
   "source": [
    "clinicalTrail.to_csv(\"clinical_oa_df_table1.csv\")"
   ]
  }
 ],
 "metadata": {
  "kernelspec": {
   "display_name": "TensorFlow",
   "language": "python",
   "name": "tensorflow"
  },
  "language_info": {
   "codemirror_mode": {
    "name": "ipython",
    "version": 3
   },
   "file_extension": ".py",
   "mimetype": "text/x-python",
   "name": "python",
   "nbconvert_exporter": "python",
   "pygments_lexer": "ipython3",
   "version": "3.6.4"
  }
 },
 "nbformat": 4,
 "nbformat_minor": 2
}
